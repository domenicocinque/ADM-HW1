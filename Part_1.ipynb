{
  "nbformat": 4,
  "nbformat_minor": 0,
  "metadata": {
    "colab": {
      "name": "Part_1.ipynb",
      "provenance": [],
      "authorship_tag": "ABX9TyN/7XHjE02/F/e6+6AiDS1X",
      "include_colab_link": true
    },
    "kernelspec": {
      "name": "python3",
      "display_name": "Python 3"
    },
    "language_info": {
      "name": "python"
    }
  },
  "cells": [
    {
      "cell_type": "markdown",
      "metadata": {
        "id": "view-in-github",
        "colab_type": "text"
      },
      "source": [
        "<a href=\"https://colab.research.google.com/github/domenicocinque/ADM-HW1/blob/main/Part_1.ipynb\" target=\"_parent\"><img src=\"https://colab.research.google.com/assets/colab-badge.svg\" alt=\"Open In Colab\"/></a>"
      ]
    },
    {
      "cell_type": "code",
      "metadata": {
        "colab": {
          "base_uri": "https://localhost:8080/"
        },
        "id": "r_W1DZ3n9NTD",
        "outputId": "052b4cc8-61b0-48da-ffe8-09fae6ece741"
      },
      "source": [
        "!wget http://dl.fbaipublicfiles.com/KILT/fever-train-kilt.jsonl\n",
        "!wget http://dl.fbaipublicfiles.com/KILT/fever-dev-kilt.jsonl\n",
        "!wget http://dl.fbaipublicfiles.com/KILT/fever-test_without_answers-kilt.jsonl"
      ],
      "execution_count": 1,
      "outputs": [
        {
          "output_type": "stream",
          "text": [
            "--2021-05-25 09:58:07--  http://dl.fbaipublicfiles.com/KILT/fever-train-kilt.jsonl\n",
            "Resolving dl.fbaipublicfiles.com (dl.fbaipublicfiles.com)... 104.22.74.142, 104.22.75.142, 172.67.9.4, ...\n",
            "Connecting to dl.fbaipublicfiles.com (dl.fbaipublicfiles.com)|104.22.74.142|:80... connected.\n",
            "HTTP request sent, awaiting response... 200 OK\n",
            "Length: 38941824 (37M) [text/plain]\n",
            "Saving to: ‘fever-train-kilt.jsonl’\n",
            "\n",
            "fever-train-kilt.js 100%[===================>]  37.14M  62.2MB/s    in 0.6s    \n",
            "\n",
            "2021-05-25 09:58:08 (62.2 MB/s) - ‘fever-train-kilt.jsonl’ saved [38941824/38941824]\n",
            "\n",
            "--2021-05-25 09:58:08--  http://dl.fbaipublicfiles.com/KILT/fever-dev-kilt.jsonl\n",
            "Resolving dl.fbaipublicfiles.com (dl.fbaipublicfiles.com)... 104.22.74.142, 104.22.75.142, 172.67.9.4, ...\n",
            "Connecting to dl.fbaipublicfiles.com (dl.fbaipublicfiles.com)|104.22.74.142|:80... connected.\n",
            "HTTP request sent, awaiting response... 200 OK\n",
            "Length: 6174139 (5.9M) [text/plain]\n",
            "Saving to: ‘fever-dev-kilt.jsonl’\n",
            "\n",
            "fever-dev-kilt.json 100%[===================>]   5.89M  --.-KB/s    in 0.07s   \n",
            "\n",
            "2021-05-25 09:58:08 (79.6 MB/s) - ‘fever-dev-kilt.jsonl’ saved [6174139/6174139]\n",
            "\n",
            "--2021-05-25 09:58:08--  http://dl.fbaipublicfiles.com/KILT/fever-test_without_answers-kilt.jsonl\n",
            "Resolving dl.fbaipublicfiles.com (dl.fbaipublicfiles.com)... 104.22.74.142, 104.22.75.142, 172.67.9.4, ...\n",
            "Connecting to dl.fbaipublicfiles.com (dl.fbaipublicfiles.com)|104.22.74.142|:80... connected.\n",
            "HTTP request sent, awaiting response... 200 OK\n",
            "Length: 838585 (819K) [text/plain]\n",
            "Saving to: ‘fever-test_without_answers-kilt.jsonl’\n",
            "\n",
            "fever-test_without_ 100%[===================>] 818.93K  --.-KB/s    in 0.05s   \n",
            "\n",
            "2021-05-25 09:58:09 (17.7 MB/s) - ‘fever-test_without_answers-kilt.jsonl’ saved [838585/838585]\n",
            "\n"
          ],
          "name": "stdout"
        }
      ]
    },
    {
      "cell_type": "code",
      "metadata": {
        "colab": {
          "base_uri": "https://localhost:8080/"
        },
        "id": "Bvj18sXv9gkg",
        "outputId": "3ae074a6-1e1c-4c4f-d078-caed85ce52a2"
      },
      "source": [
        "!git add . \n",
        "!git commit -m 'prova commit colab'\n",
        "!git push"
      ],
      "execution_count": 2,
      "outputs": [
        {
          "output_type": "stream",
          "text": [
            "fatal: not a git repository (or any of the parent directories): .git\n",
            "fatal: not a git repository (or any of the parent directories): .git\n",
            "fatal: not a git repository (or any of the parent directories): .git\n"
          ],
          "name": "stdout"
        }
      ]
    }
  ]
}