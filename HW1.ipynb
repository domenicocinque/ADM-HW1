{
 "cells": [
  {
   "cell_type": "markdown",
   "metadata": {},
   "source": [
    "# Problem 1"
   ]
  },
  {
   "cell_type": "markdown",
   "metadata": {},
   "source": [
    "# Introduction"
   ]
  },
  {
   "cell_type": "code",
   "execution_count": 1,
   "metadata": {},
   "outputs": [
    {
     "name": "stdout",
     "output_type": "stream",
     "text": [
      "Hello, World!\n"
     ]
    }
   ],
   "source": [
    "#Say \"Hello, World!\" With Python\n",
    "print(\"Hello, World!\")"
   ]
  },
  {
   "cell_type": "code",
   "execution_count": null,
   "metadata": {},
   "outputs": [],
   "source": [
    "#Python If-Else\n",
    "\n",
    "#!/bin/python3\n",
    "import math\n",
    "import os\n",
    "import random\n",
    "import re\n",
    "import sys\n",
    "\n",
    "if __name__ == '__main__':\n",
    "    n = int(input().strip())\n",
    "\n",
    "if n % 2 == 0:\n",
    "    if n >= 2 and n <= 5:\n",
    "        print(\"Not Weird\")\n",
    "    if n >= 6 and n <= 20:\n",
    "        print(\"Weird\")\n",
    "    if n > 20:\n",
    "        print(\"Not Weird\")\n",
    "else:\n",
    "    print(\"Weird\")"
   ]
  },
  {
   "cell_type": "code",
   "execution_count": null,
   "metadata": {},
   "outputs": [],
   "source": [
    "#Arithmetic Operators\n",
    "\n",
    "if __name__ == '__main__':\n",
    "    a = int(input())\n",
    "    b = int(input())\n",
    "\n",
    "print(a+b)\n",
    "print(a-b)\n",
    "print(a*b)"
   ]
  },
  {
   "cell_type": "code",
   "execution_count": null,
   "metadata": {},
   "outputs": [],
   "source": [
    "#Python: Division\n",
    "\n",
    "if __name__ == '__main__':\n",
    "    a = int(input())\n",
    "    b = int(input())\n",
    "\n",
    "print(a//b)\n",
    "print(a/b)"
   ]
  },
  {
   "cell_type": "code",
   "execution_count": null,
   "metadata": {},
   "outputs": [],
   "source": [
    "#Loops\n",
    "\n",
    "if __name__ == '__main__':\n",
    "    n = int(input())\n",
    "\n",
    "for i in range(0,n):\n",
    "    print(i**2)"
   ]
  },
  {
   "cell_type": "code",
   "execution_count": null,
   "metadata": {},
   "outputs": [],
   "source": [
    "#Write a function\n",
    "\n",
    "def is_leap(year):\n",
    "    leap = False\n",
    "    if year % 4 == 0:\n",
    "        leap = True\n",
    "        if year % 100 == 0:\n",
    "            if year % 400 != 0:\n",
    "                leap = False    \n",
    "    return leap"
   ]
  },
  {
   "cell_type": "code",
   "execution_count": null,
   "metadata": {},
   "outputs": [],
   "source": [
    "#Print Function\n",
    "\n",
    "if __name__ == '__main__':\n",
    "    n = int(input())\n",
    "\n",
    "s = \"\"\n",
    "for i in range(1,n+1):\n",
    "    s += str(i)\n",
    "print(s)"
   ]
  },
  {
   "cell_type": "markdown",
   "metadata": {},
   "source": [
    "# Basic data types"
   ]
  },
  {
   "cell_type": "code",
   "execution_count": null,
   "metadata": {},
   "outputs": [],
   "source": [
    "#Find the Runner-Up Score! \n",
    "\n",
    "if __name__ == '__main__':\n",
    "    n = int(input())\n",
    "    arr = map(int, input().split())\n",
    "\n",
    "s = list(arr)\n",
    "\n",
    "def getRunnerUp(l):\n",
    "    l.sort()\n",
    "    n = l.count(max(l))\n",
    "    for i in range(n):\n",
    "        l.pop()\n",
    "    return l.pop()\n",
    "\n",
    "print(getRunnerUp(s))"
   ]
  },
  {
   "cell_type": "code",
   "execution_count": null,
   "metadata": {},
   "outputs": [],
   "source": [
    "#Nested Lists\n",
    "\n",
    "l = []\n",
    "\n",
    "if __name__ == '__main__':\n",
    "    for _ in range(int(input())):\n",
    "        name = input()\n",
    "        score = float(input())\n",
    "        l.append([name,score])\n",
    "\n",
    "nl = []\n",
    "for i in range(len(l)):\n",
    "    nl.append(l[i][1])\n",
    "\n",
    "def findSecondLowest(l):\n",
    "    lowest = min(l)\n",
    "    nl = []\n",
    "    for i in l:\n",
    "        if i != lowest:\n",
    "            nl.append(i)\n",
    "    return min(nl)\n",
    "\n",
    "def main(l):\n",
    "    names = []\n",
    "    secondLow = findSecondLowest(nl)\n",
    "    for i in range(len(l)):\n",
    "        if l[i][1] == secondLow:\n",
    "            names.append(l[i][0])\n",
    "    names.sort()\n",
    "    for i in names:\n",
    "        print(i)\n",
    "    \n",
    "main(l)"
   ]
  },
  {
   "cell_type": "code",
   "execution_count": null,
   "metadata": {},
   "outputs": [],
   "source": [
    "#Finding the percentage\n",
    "\n",
    "if __name__ == '__main__':\n",
    "    n = int(input())\n",
    "    student_marks = {}\n",
    "    for _ in range(n):\n",
    "        name, *line = input().split()\n",
    "        scores = list(map(float, line))\n",
    "        student_marks[name] = scores\n",
    "    query_name = input()\n",
    "\n",
    "def listMean(l):\n",
    "    return sum(l)/len(l)\n",
    "\n",
    "print('{:.2f}'.format(listMean(student_marks[query_name])))"
   ]
  },
  {
   "cell_type": "code",
   "execution_count": null,
   "metadata": {},
   "outputs": [],
   "source": [
    "#Lists\n",
    "\n",
    "if __name__ == '__main__':\n",
    "    N = int(input())\n",
    "\n",
    "l = []\n",
    "\n",
    "for i in range(N):\n",
    "    line = input().split()\n",
    "    if line[0] == 'insert':\n",
    "        l.insert(int(line[1]),int(line[2]))\n",
    "    elif line[0] == 'print':\n",
    "        print(l)\n",
    "    elif line[0] == 'remove':\n",
    "        l.remove(int(line[1]))\n",
    "    elif line[0] == 'append':\n",
    "        l.append(int(line[1]))\n",
    "    elif line[0] == 'sort':\n",
    "        l.sort()\n",
    "    elif line[0] == 'pop':\n",
    "        l.pop()\n",
    "    elif line[0] == 'reverse':\n",
    "        l.reverse()"
   ]
  },
  {
   "cell_type": "code",
   "execution_count": null,
   "metadata": {},
   "outputs": [],
   "source": [
    "#Tuples\n",
    "\n",
    "if __name__ == '__main__':\n",
    "    n = int(input())\n",
    "    integer_list = map(int, input().split())\n",
    "\n",
    "print(hash(tuple(integer_list)))"
   ]
  },
  {
   "cell_type": "markdown",
   "metadata": {},
   "source": [
    "# Strings"
   ]
  },
  {
   "cell_type": "code",
   "execution_count": null,
   "metadata": {},
   "outputs": [],
   "source": [
    "#sWAP cASE\n",
    "\n",
    "def swap_case(s):\n",
    "    ns = ''\n",
    "    for i in s:\n",
    "        if i.isupper() == True:\n",
    "            ns += i.lower()\n",
    "        else:\n",
    "            ns += i.upper()\n",
    "    return ns"
   ]
  },
  {
   "cell_type": "code",
   "execution_count": null,
   "metadata": {},
   "outputs": [],
   "source": [
    "#String Split and Join\n",
    "\n",
    "def split_and_join(line):\n",
    "    l = line.split()\n",
    "    out = '-'.join(l)\n",
    "    return out"
   ]
  },
  {
   "cell_type": "code",
   "execution_count": null,
   "metadata": {},
   "outputs": [],
   "source": [
    "#What's Your Name?\n",
    "\n",
    "def print_full_name(a, b):\n",
    "    print(\"Hello \"+a+\" \"+b+\"! You just delved into python.\")"
   ]
  },
  {
   "cell_type": "code",
   "execution_count": null,
   "metadata": {},
   "outputs": [],
   "source": [
    "#Mutations\n",
    "\n",
    "def mutate_string(string, position, character):\n",
    "    l = []\n",
    "    for i in string:\n",
    "        l.append(i)\n",
    "    l[position] = character\n",
    "    return ''.join(l)"
   ]
  },
  {
   "cell_type": "code",
   "execution_count": null,
   "metadata": {},
   "outputs": [],
   "source": [
    "#Find a string\n",
    "\n",
    "def count_substring(string, sub_string):\n",
    "    count = 0\n",
    "    for i in range(0, len(string) - len(sub_string) + 1):\n",
    "        if string[i:i+len(sub_string)] == sub_string:\n",
    "            count += 1\n",
    "    return count"
   ]
  },
  {
   "cell_type": "code",
   "execution_count": null,
   "metadata": {},
   "outputs": [],
   "source": [
    "#String Validators\n",
    "\n",
    "if __name__ == '__main__':\n",
    "    s = input()\n",
    "\n",
    "out = False\n",
    "for i in s:\n",
    "    if i.isalnum() == True:\n",
    "        out = True\n",
    "print(out)\n",
    "    \n",
    "out = False\n",
    "for i in s:\n",
    "    if i.isalpha() == True:\n",
    "        out = True\n",
    "print(out)\n",
    "    \n",
    "out = False  \n",
    "for i in s:\n",
    "    if i.isdigit() == True:\n",
    "        out = True\n",
    "print(out)\n",
    "\n",
    "out = False\n",
    "for i in s:\n",
    "    if i.islower() == True:\n",
    "        out = True\n",
    "print(out)\n",
    "    \n",
    "out = False\n",
    "for i in s:\n",
    "    if i.isupper() == True:\n",
    "        out = True\n",
    "print(out)\n",
    "    "
   ]
  },
  {
   "cell_type": "code",
   "execution_count": null,
   "metadata": {},
   "outputs": [],
   "source": [
    "#Text Alignment\n",
    "\n",
    "thickness = int(input()) #This must be an odd number\n",
    "c = 'H'\n",
    "\n",
    "#Top Cone\n",
    "for i in range(thickness):\n",
    "    print((c*i).rjust(thickness-1)+c+(c*i).ljust(thickness-1))\n",
    "\n",
    "#Top Pillars\n",
    "for i in range(thickness+1):\n",
    "    print((c*thickness).center(thickness*2)+(c*thickness).center(thickness*6))\n",
    "\n",
    "#Middle Belt\n",
    "for i in range((thickness+1)//2):\n",
    "    print((c*thickness*5).center(thickness*6))    \n",
    "\n",
    "#Bottom Pillars\n",
    "for i in range(thickness+1):\n",
    "    print((c*thickness).center(thickness*2)+(c*thickness).center(thickness*6))    \n",
    "\n",
    "#Bottom Cone\n",
    "for i in range(thickness):\n",
    "    print(((c*(thickness-i-1)).rjust(thickness)+c+(c*(thickness-i-1)).ljust(thickness)).rjust(thickness*6))"
   ]
  },
  {
   "cell_type": "code",
   "execution_count": null,
   "metadata": {},
   "outputs": [],
   "source": [
    "#Text Wrap\n",
    "\n",
    "def wrap(string, max_width):\n",
    "    l = textwrap.wrap(string, width=max_width)\n",
    "    s = ''\n",
    "    for i in l:\n",
    "        s += i +'\\n'\n",
    "    return s"
   ]
  },
  {
   "cell_type": "code",
   "execution_count": null,
   "metadata": {},
   "outputs": [],
   "source": [
    "#Designer Door Mat\n",
    "\n",
    "line = input().split()\n",
    "N = int(line[0])\n",
    "M = int(line[1])\n",
    "\n",
    "l=[]\n",
    "for i in range(1,N+1):\n",
    "    if i < (N+1)/2:\n",
    "        n = int((i-1)*2+1)\n",
    "        k = int((M-n*3)/2)\n",
    "        s = '-'*k+'.|.'*n+'-'*k\n",
    "        print(s)\n",
    "        l.append(s)\n",
    "    elif i == (N+1)/2:\n",
    "        print('-'*int((M-7)/2)+'WELCOME'+'-'*int((M-7)/2))\n",
    "    elif i > (N+1)/2:\n",
    "        print(l.pop())"
   ]
  },
  {
   "cell_type": "code",
   "execution_count": null,
   "metadata": {},
   "outputs": [],
   "source": [
    "#String Formatting\n",
    "\n",
    "def print_formatted(number):\n",
    "    width = len(\"{:b}\".format(number))\n",
    "    for i in range(1,number+1):\n",
    "        print(\"{0:{w}d} {0:{w}o} {0:{w}X} {0:{w}b}\".format(i,w=width))"
   ]
  },
  {
   "cell_type": "code",
   "execution_count": null,
   "metadata": {},
   "outputs": [],
   "source": [
    "#Alphabet Rangoli\n",
    "\n",
    "def genCenter(N,K):\n",
    "    alph = 'abcdefghijklmnopqrstuvwxyz'\n",
    "    alph = list(alph)\n",
    "    alph = alph[0:N]\n",
    "    alphr = alph[1:N]\n",
    "    alphr.reverse()\n",
    "    alph = alphr + alph\n",
    "    out = alph[0:K] + alph[(len(alph)-K):(len(alph))]\n",
    "    out.pop(K)\n",
    "    return out\n",
    "\n",
    "def print_rangoli(size):\n",
    "    N = size\n",
    "    width = 4*N-3\n",
    "    l = []\n",
    "    for i in range(2*N-1):\n",
    "        k = int((width-1)/2-i*2)\n",
    "        line = '-'*k + '-'.join(genCenter(N,i+1)) + '-'*k\n",
    "        if i<N:\n",
    "            l.append(line)\n",
    "            print(line)\n",
    "        elif i == N:\n",
    "            l.pop()\n",
    "            print(l.pop())\n",
    "        elif i > N:\n",
    "            print(l.pop())"
   ]
  },
  {
   "cell_type": "code",
   "execution_count": null,
   "metadata": {},
   "outputs": [],
   "source": [
    "#Capitalize!\n",
    "\n",
    "def sub(s):\n",
    "    l = []\n",
    "    for i in s:\n",
    "        l.append(i)\n",
    "    l[0] = l[0].upper()\n",
    "    return ''.join(l)\n",
    "\n",
    "def solve(s):\n",
    "    ns = s.split()\n",
    "    for i in ns:\n",
    "        s = s.replace(i,sub(i))\n",
    "    return s"
   ]
  },
  {
   "cell_type": "code",
   "execution_count": null,
   "metadata": {},
   "outputs": [],
   "source": [
    "#The Minion Game\n",
    "\n",
    "def nsubs(s,i):\n",
    "    return len(s)-i\n",
    "\n",
    "def minion_game(string):\n",
    "    pa, pb = 0, 0\n",
    "    voc = 'AEIOU'\n",
    "    for i in range(len(string)):\n",
    "        if string[i] in voc:\n",
    "            pa += nsubs(string,i)\n",
    "        else:\n",
    "            pb += nsubs(string,i)\n",
    "    if pa > pb:\n",
    "        print('Kevin', pa)\n",
    "    elif pa == pb:\n",
    "        print('Draw')\n",
    "    else:\n",
    "        print('Stuart', pb)"
   ]
  },
  {
   "cell_type": "code",
   "execution_count": null,
   "metadata": {},
   "outputs": [],
   "source": [
    "#Merge the Tools!\n",
    "\n",
    "def sSplit(s,k):\n",
    "    if k < 1:\n",
    "        return 'k must be > 0'\n",
    "    else:\n",
    "        l = []\n",
    "        for i in range(0,len(s),k):\n",
    "            l.append(s[i:i+k])\n",
    "        return l\n",
    "        \n",
    "def merge_the_tools(string, k):\n",
    "    l = sSplit(string, k)\n",
    "    for i in l:\n",
    "        out = ''\n",
    "        for j in list(dict.fromkeys(sSplit(i,1))): \n",
    "            out += str(j)\n",
    "        print(out)\n",
    "    return ''"
   ]
  },
  {
   "cell_type": "markdown",
   "metadata": {},
   "source": [
    "# Sets"
   ]
  },
  {
   "cell_type": "code",
   "execution_count": null,
   "metadata": {},
   "outputs": [],
   "source": [
    "#Introduction to Sets\n",
    "\n",
    "def average(array):\n",
    "    array = set(array)\n",
    "    return sum(array)/len(array)"
   ]
  },
  {
   "cell_type": "code",
   "execution_count": null,
   "metadata": {},
   "outputs": [],
   "source": [
    "#No Idea!\n",
    "\n",
    "line1 = input().split()\n",
    "s = input().split()\n",
    "A = set(input().split())\n",
    "B = set(input().split())\n",
    "\n",
    "hap = 0\n",
    "\n",
    "for i in s:\n",
    "    if i in A:\n",
    "        hap += 1\n",
    "    elif i in B:\n",
    "        hap -= 1\n",
    "\n",
    "print(hap)"
   ]
  },
  {
   "cell_type": "code",
   "execution_count": null,
   "metadata": {},
   "outputs": [],
   "source": [
    "#Symmetric Difference\n",
    "\n",
    "input()\n",
    "A = set(input().split())\n",
    "input()\n",
    "B = set(input().split())\n",
    "\n",
    "C = A.symmetric_difference(B)\n",
    "l = []\n",
    "for i in C:\n",
    "    l.append(int(i))\n",
    "l.sort()\n",
    "\n",
    "for i in l:\n",
    "    print(i)"
   ]
  },
  {
   "cell_type": "code",
   "execution_count": null,
   "metadata": {},
   "outputs": [],
   "source": [
    "#Set .add() \n",
    "\n",
    "N = int(input())\n",
    "s = set()\n",
    "for i in range(N):\n",
    "    s.add(input())\n",
    "\n",
    "print(len(s))"
   ]
  },
  {
   "cell_type": "code",
   "execution_count": null,
   "metadata": {},
   "outputs": [],
   "source": [
    "#Set .discard(), .remove() & .pop()\n",
    "\n",
    "n = int(input())\n",
    "s =set(map(int, input().split()))\n",
    "\n",
    "for i in range(int(input())):\n",
    "  line=input().split()\n",
    "  if line[0] == \"remove\":\n",
    "      s.remove(int(line[1]))\n",
    "  elif line[0] == \"discard\":\n",
    "    s.discard(int(line[1]))\n",
    "  else:\n",
    "    s.pop()\n",
    "    \n",
    "print(sum(s))"
   ]
  },
  {
   "cell_type": "code",
   "execution_count": null,
   "metadata": {},
   "outputs": [],
   "source": [
    "#Set .union() Operation\n",
    "\n",
    "input()\n",
    "A = set(input().split())\n",
    "input()\n",
    "B = set(input().split())\n",
    "C = A|B\n",
    "print(len(C))"
   ]
  },
  {
   "cell_type": "code",
   "execution_count": null,
   "metadata": {},
   "outputs": [],
   "source": [
    "#Set .intersection() Operation\n",
    "\n",
    "input()\n",
    "a = set(input().split())\n",
    "input()\n",
    "b = set(input().split())\n",
    "\n",
    "print(len(a.intersection(b)))"
   ]
  },
  {
   "cell_type": "code",
   "execution_count": null,
   "metadata": {},
   "outputs": [],
   "source": [
    "#Set .difference() Operation\n",
    "\n",
    "input()\n",
    "a = set(input().split())\n",
    "input()\n",
    "b = set(input().split())\n",
    "\n",
    "print(len(a.difference(b)))"
   ]
  },
  {
   "cell_type": "code",
   "execution_count": null,
   "metadata": {},
   "outputs": [],
   "source": [
    "#Set .symmetric_difference() Operation\n",
    "\n",
    "input()\n",
    "a = set(input().split())\n",
    "input()\n",
    "b = set(input().split())\n",
    "\n",
    "print(len(a.symmetric_difference(b)))"
   ]
  },
  {
   "cell_type": "code",
   "execution_count": null,
   "metadata": {},
   "outputs": [],
   "source": [
    "#Set Mutations\n",
    "\n",
    "input()\n",
    "A = set(map(int, input().split()))\n",
    "N = int(input())\n",
    "for i in range(N):\n",
    "    line = input().split()\n",
    "    if line[0] == 'intersection_update':\n",
    "        A &= set(map(int, input().split()))\n",
    "    elif line[0] == 'update':\n",
    "        A |= set(map(int, input().split()))\n",
    "    elif line[0] == 'symmetric_difference_update':\n",
    "        A ^= set(map(int, input().split()))\n",
    "    else:\n",
    "        A -= set(map(int, input().split()))\n",
    "print(sum(A))"
   ]
  },
  {
   "cell_type": "code",
   "execution_count": null,
   "metadata": {},
   "outputs": [],
   "source": [
    "#The Captain's Room \n",
    "\n",
    "n = int(input())\n",
    "l = input().split()\n",
    "visited = set()\n",
    "repeating = set()\n",
    "for i in l:\n",
    "    if i not in visited:\n",
    "        visited.add(i)\n",
    "    else:\n",
    "        repeating.add(i)\n",
    "for i in visited.difference(repeating):\n",
    "    print(i)"
   ]
  },
  {
   "cell_type": "code",
   "execution_count": null,
   "metadata": {},
   "outputs": [],
   "source": [
    "#Check Subset\n",
    "\n",
    "K = int(input())\n",
    "for i in range(K):\n",
    "    input()\n",
    "    A = set(input().split())\n",
    "    input()\n",
    "    B = set(input().split())\n",
    "    print(A.issubset(B))"
   ]
  },
  {
   "cell_type": "code",
   "execution_count": null,
   "metadata": {},
   "outputs": [],
   "source": [
    "#Check Strict Superset\n",
    "\n",
    "A = set(map(int, input().split()))    \n",
    "sus = True\n",
    "for i in range(int(input())):\n",
    "    s = set(map(int, input().split()))\n",
    "    if not (A.intersection(s)!={} and A > s):\n",
    "        sus = False\n",
    "print(sus)"
   ]
  },
  {
   "cell_type": "markdown",
   "metadata": {},
   "source": [
    "# Collections"
   ]
  },
  {
   "cell_type": "code",
   "execution_count": null,
   "metadata": {},
   "outputs": [],
   "source": [
    "#collections.Counter()\n",
    "\n",
    "from collections import Counter\n",
    "input()\n",
    "c = Counter(map(int, input().split()))\n",
    "\n",
    "out = 0\n",
    "for i in range(int(input())):\n",
    "    line = list(map(int, input().split()))\n",
    "    if line[0] in c.keys() and c[line[0]] > 0:\n",
    "        c[line[0]] -= 1\n",
    "        out += line[1]\n",
    "print(out)"
   ]
  },
  {
   "cell_type": "code",
   "execution_count": null,
   "metadata": {},
   "outputs": [],
   "source": [
    "#DefaultDict Tutorial\n",
    "\n",
    "from collections import defaultdict\n",
    "line = list(map(int, input().split()))\n",
    "n, m, d = line[0], line[1], defaultdict(list)\n",
    "for i in range(n):\n",
    "    d[input()].append(str(i + 1))\n",
    "for i in range(m):\n",
    "    c = input()\n",
    "    if c in d.keys():\n",
    "        print(' '.join(d[c]))\n",
    "    else:\n",
    "        print('-1')"
   ]
  },
  {
   "cell_type": "code",
   "execution_count": null,
   "metadata": {},
   "outputs": [],
   "source": [
    "#Collections.namedtuple()\n",
    "\n",
    "from collections import namedtuple\n",
    "out, n, student = 0, int(input()), namedtuple('student',input())\n",
    "for i in range(n):\n",
    "    line = input().split()\n",
    "    out += int(student(line[0],line[1],line[2],line[3]).MARKS)\n",
    "print(out/n)"
   ]
  },
  {
   "cell_type": "code",
   "execution_count": null,
   "metadata": {},
   "outputs": [],
   "source": [
    "#Collections.OrderedDict()\n",
    "\n",
    "from collections import OrderedDict\n",
    "d = OrderedDict()\n",
    "for i in range(int(input())):\n",
    "    linea = input().split()\n",
    "    name = ' '.join(linea[0:len(linea)-1])\n",
    "    num = int(linea[len(linea)-1])\n",
    "    if name in d.keys():\n",
    "        d[name] += num\n",
    "    else:\n",
    "        d[name] = num\n",
    "for i,k in d.items():\n",
    "    print(i,k)"
   ]
  },
  {
   "cell_type": "code",
   "execution_count": null,
   "metadata": {},
   "outputs": [],
   "source": [
    "#Word Order\n",
    "\n",
    "from collections import OrderedDict\n",
    "d = OrderedDict()\n",
    "for i in range(int(input())):\n",
    "    linea = input()\n",
    "    if linea in d.keys():\n",
    "        d[linea] += 1\n",
    "    else:\n",
    "        d[linea] = 1\n",
    "\n",
    "print(len(d))\n",
    "print(' '.join(map(str,d.values())))"
   ]
  },
  {
   "cell_type": "code",
   "execution_count": null,
   "metadata": {},
   "outputs": [],
   "source": [
    "#Collections.deque()\n",
    "\n",
    "from collections import deque\n",
    "d = deque()\n",
    "for i in range(int(input())):\n",
    "    line = input().split()\n",
    "    if line[0] != 'pop' and line[0] != 'popleft':\n",
    "        eval('d.{0}(int({1}))'.format(line[0],line[1]))\n",
    "    elif line[0] == 'pop':\n",
    "        d.pop()\n",
    "    elif line[0] == 'popleft':\n",
    "        d.popleft()\n",
    "print(' '.join(list(map(str, d))))"
   ]
  },
  {
   "cell_type": "code",
   "execution_count": null,
   "metadata": {},
   "outputs": [],
   "source": [
    "#Company Logo\n",
    "\n",
    "#!/bin/python3\n",
    "import math\n",
    "import os\n",
    "import random\n",
    "import re\n",
    "import sys\n",
    "from collections import defaultdict\n",
    "\n",
    "if __name__ == '__main__':\n",
    "    s = input()\n",
    "\n",
    "d = defaultdict(int)\n",
    "for i in s:\n",
    "    d[i] += 1\n",
    "    \n",
    "d = sorted(d.items(), key = lambda x: x[0])\n",
    "d = sorted(d, key = lambda x: x[1], reverse=True)\n",
    "for i in range(3):\n",
    "    print(*d[i])"
   ]
  },
  {
   "cell_type": "code",
   "execution_count": null,
   "metadata": {},
   "outputs": [],
   "source": [
    "#Piling Up!\n",
    "\n",
    "from collections import deque\n",
    "\n",
    "def dec(l):\n",
    "    if l[len(l)-1] > l[len(l)-2]:\n",
    "        return False\n",
    "\n",
    "def check(l):\n",
    "    d = deque(l)\n",
    "    nl = []\n",
    "    r = len(l)\n",
    "    for i in range(r):\n",
    "        if d[0] > d[len(d)-1]:\n",
    "            nl.append(d.popleft())\n",
    "        else:\n",
    "            nl.append(d.pop())\n",
    "        if dec(nl) == False:\n",
    "            return False\n",
    "    return True\n",
    "\n",
    "n = int(input()) \n",
    "for i in range(n):\n",
    "    input()\n",
    "    s = list(map(int, input().split()))\n",
    "    if check(s) == True:\n",
    "        print('Yes')\n",
    "    else:\n",
    "        print('No')"
   ]
  },
  {
   "cell_type": "markdown",
   "metadata": {},
   "source": [
    "# Date and time"
   ]
  },
  {
   "cell_type": "code",
   "execution_count": null,
   "metadata": {},
   "outputs": [],
   "source": [
    "#Calendar Module\n",
    "\n",
    "import calendar\n",
    "x = calendar.day_name\n",
    "line = list(map(int, input().split()))\n",
    "print(x[calendar.weekday(line[2],line[0],line[1])].upper())"
   ]
  },
  {
   "cell_type": "code",
   "execution_count": null,
   "metadata": {},
   "outputs": [],
   "source": [
    "#Time Delta\n",
    "\n",
    "#!/bin/python3\n",
    "import math\n",
    "import os\n",
    "import random\n",
    "import re\n",
    "import sys\n",
    "import datetime\n",
    "\n",
    "form = '%a %d %b %Y %H:%M:%S %z'\n",
    "# Searched on the internet for some hints\n",
    "def time_delta(t1, t2):\n",
    "    x = datetime.datetime.strptime(t1, form)\n",
    "    y = datetime.datetime.strptime(t2, form)\n",
    "    return  int(abs((x-y).total_seconds()))\n",
    "\n",
    "if __name__ == '__main__':\n",
    "    fptr = open(os.environ['OUTPUT_PATH'], 'w')\n",
    "    t = int(input())\n",
    "    for t_itr in range(t):\n",
    "        t1 = input()\n",
    "        t2 = input()\n",
    "        delta = str(time_delta(t1, t2))\n",
    "        fptr.write(delta + '\\n')\n",
    "    fptr.close()"
   ]
  },
  {
   "cell_type": "markdown",
   "metadata": {},
   "source": [
    "## Exceptions"
   ]
  },
  {
   "cell_type": "code",
   "execution_count": null,
   "metadata": {},
   "outputs": [],
   "source": [
    "#Exceptions\n",
    "\n",
    "for i in range(int(input())):\n",
    "    line = input().split()\n",
    "    try:\n",
    "        a, b = map(int, line)\n",
    "        print(a//b)\n",
    "    except ValueError as e:\n",
    "        print('Error Code:',e)\n",
    "    except ZeroDivisionError as e:\n",
    "        print('Error Code:', e)"
   ]
  },
  {
   "cell_type": "markdown",
   "metadata": {},
   "source": [
    "# Built-ins"
   ]
  },
  {
   "cell_type": "code",
   "execution_count": null,
   "metadata": {},
   "outputs": [],
   "source": [
    "#Zipped!\n",
    "\n",
    "n, x = list(map(int, input().split()))\n",
    "l = []\n",
    "for i in range(x):\n",
    "    l.append(list(map(float, input().split())))\n",
    "a = list(zip(*l))\n",
    "for i in range(n):\n",
    "    print(sum(a[i])/x)"
   ]
  },
  {
   "cell_type": "code",
   "execution_count": null,
   "metadata": {},
   "outputs": [],
   "source": [
    "#Input()\n",
    "\n",
    "x, k = list(map(int, input().split()))\n",
    "line = input().replace('x', str(x))\n",
    "if k == eval(line):\n",
    "    print(True)\n",
    "else:\n",
    "    print(False)"
   ]
  },
  {
   "cell_type": "code",
   "execution_count": null,
   "metadata": {},
   "outputs": [],
   "source": [
    "#Python Evaluation\n",
    "\n",
    "eval(input())"
   ]
  },
  {
   "cell_type": "code",
   "execution_count": null,
   "metadata": {},
   "outputs": [],
   "source": [
    "#Athlete Sort\n",
    "\n",
    "#!/bin/python3\n",
    "import math\n",
    "import os\n",
    "import random\n",
    "import re\n",
    "import sys\n",
    "from collections import defaultdict\n",
    "\n",
    "if __name__ == '__main__':\n",
    "    nm = input().split()\n",
    "    n = int(nm[0])\n",
    "    m = int(nm[1])\n",
    "    arr = []\n",
    "    for _ in range(n):\n",
    "        arr.append(tuple(map(int, input().rstrip().split())))\n",
    "    k = int(input())\n",
    "\n",
    "#Found on https://docs.python.org/3/howto/sorting.html\n",
    "arr = sorted(arr, key=lambda x: x[k]) \n",
    "\n",
    "for i in arr:\n",
    "    print(' '.join(list(map(str, i))))"
   ]
  },
  {
   "cell_type": "code",
   "execution_count": null,
   "metadata": {},
   "outputs": [],
   "source": [
    "#Any or All\n",
    "\n",
    "n, l = input(), list(map(int, input().split()))\n",
    "if any(str(x) == str(x)[::-1] for x in l) and all(int(i)>0 for i in l):\n",
    "    print(True)\n",
    "else:\n",
    "    print(False)"
   ]
  },
  {
   "cell_type": "code",
   "execution_count": null,
   "metadata": {},
   "outputs": [],
   "source": [
    "#ginortS\n",
    "\n",
    "d = {'up': [], 'low': [], 'even': [], 'odd': []}\n",
    "for i in input():\n",
    "    try:\n",
    "        n = int(i)\n",
    "        if n%2 == 0:\n",
    "            d['even'].append(n)\n",
    "        else:\n",
    "            d['odd'].append(n)\n",
    "    except BaseException:\n",
    "        if i.isupper() == True:\n",
    "            d['up'].append(i)\n",
    "        else:\n",
    "            d['low'].append(i)\n",
    "for i in d.keys():\n",
    "    d[i].sort()\n",
    "    \n",
    "l = list(map(str, d['low'] + d['up'] + d['odd'] + d['even']))\n",
    "print(''.join(l))"
   ]
  },
  {
   "cell_type": "markdown",
   "metadata": {},
   "source": [
    "# Python Functionals"
   ]
  },
  {
   "cell_type": "code",
   "execution_count": null,
   "metadata": {},
   "outputs": [],
   "source": [
    "#Map and Lambda Function\n",
    "\n",
    "cube = lambda x: x**3\n",
    "\n",
    "def fibonacci(n):\n",
    "    l = [0,1]\n",
    "    if n == 0:\n",
    "        return []\n",
    "    elif n == 1:\n",
    "        return [0]\n",
    "    elif n == 2:\n",
    "        return l\n",
    "    else:\n",
    "        for i in range(n-2):\n",
    "            l.append(l[len(l)-1] + l[len(l)-2])\n",
    "    return l"
   ]
  },
  {
   "cell_type": "markdown",
   "metadata": {},
   "source": [
    "# Regex and Parsing"
   ]
  },
  {
   "cell_type": "code",
   "execution_count": null,
   "metadata": {},
   "outputs": [],
   "source": [
    "#Detect Floating Point Number\n",
    "\n",
    "for i in range(int(input())):\n",
    "    try:\n",
    "        n = float(input())\n",
    "        if n != 0:\n",
    "            print(True)\n",
    "        else:\n",
    "            print(False)\n",
    "    except ValueError:\n",
    "        print(False)"
   ]
  },
  {
   "cell_type": "code",
   "execution_count": null,
   "metadata": {},
   "outputs": [],
   "source": [
    "#Re.split()\n",
    "\n",
    "regex_pattern = r\"[.,]\"\t# Do not delete 'r'."
   ]
  },
  {
   "cell_type": "code",
   "execution_count": null,
   "metadata": {},
   "outputs": [],
   "source": [
    "#Group(), Groups() & Groupdict()\n",
    "\n",
    "import re\n",
    "s = input().strip()\n",
    "m = re.search(r'([a-zA-Z0-9])\\1+', s)\n",
    "if m:\n",
    "    print(m.groups()[0])\n",
    "else:\n",
    "    print(-1)"
   ]
  },
  {
   "cell_type": "code",
   "execution_count": null,
   "metadata": {},
   "outputs": [],
   "source": [
    "#Re.findall() & Re.finditer()\n",
    "\n",
    "import re\n",
    "s = input()\n",
    "x = re.findall(r'[aeiouAEIOU]{2,}(?=[bcdfghj-np-tv-z])',s)\n",
    "if len(x) != 0:\n",
    "    for i in x:\n",
    "        print(i)\n",
    "else:\n",
    "    print(-1)\n"
   ]
  },
  {
   "cell_type": "code",
   "execution_count": null,
   "metadata": {},
   "outputs": [],
   "source": [
    "#Re.start() & Re.end()\n",
    "\n",
    "import re \n",
    "s = input()\n",
    "p = re.compile(input())\n",
    "m = p.search(s)\n",
    "if m:\n",
    "    while m:\n",
    "        i, f = m.start(), m.end()\n",
    "        print((i,f-1))\n",
    "        m = p.search(s,i+1)\n",
    "else:\n",
    "    print((-1,-1))"
   ]
  },
  {
   "cell_type": "code",
   "execution_count": null,
   "metadata": {},
   "outputs": [],
   "source": [
    "#Regex Substitution\n",
    "\n",
    "import re\n",
    "r = int(input())\n",
    "for i in range(r):\n",
    "    s = input()\n",
    "    s = re.sub('(?<=\\s)(?:&&)(?=\\s)', 'and', s)\n",
    "    s = re.sub('(?<=\\s)(?:\\|{2})(?=\\s)', 'or', s)\n",
    "    print(s)"
   ]
  },
  {
   "cell_type": "code",
   "execution_count": null,
   "metadata": {},
   "outputs": [],
   "source": [
    "#Validating Roman Numerals\n",
    "\n",
    "#Searched for some hints in the solution\n",
    "thousands = '(M{0,3})'\n",
    "hundreds = '(C[MD]|D?C{0,3})' #Subtraction CM=900 and CD=400 | Zero or one of D plus from 0 to 3 C\n",
    "dozens = '(X[CL]|L?X{0,3})' #Same with dozens\n",
    "digits = '(I[XV]|V?I{0,3})' #Same\n",
    "regex_pattern = r'^' + thousands + hundreds + dozens + digits\t+ '$' # Do not delete 'r'."
   ]
  },
  {
   "cell_type": "code",
   "execution_count": null,
   "metadata": {},
   "outputs": [],
   "source": [
    "#Validating phone numbers\n",
    "\n",
    "import re\n",
    "s = '^([789])([\\d]{9})$'\n",
    "for i in range(int(input())):\n",
    "    if re.match(s,input()):\n",
    "        print('YES')\n",
    "    else:\n",
    "        print('NO')"
   ]
  },
  {
   "cell_type": "code",
   "execution_count": null,
   "metadata": {},
   "outputs": [],
   "source": [
    "#Validating and Parsing Email Addresses\n",
    "\n",
    "import re\n",
    "r = '^<([a-zA-Z]{1}[[\\w\\-\\.\\_]+)@([a-zA-Z]+)\\.([a-zA-Z]{1,3})>$'\n",
    "for i in range(int(input())):\n",
    "    line = input().split()\n",
    "    if re.match(r,line[1]):\n",
    "        print(line[0],line[1])"
   ]
  },
  {
   "cell_type": "code",
   "execution_count": null,
   "metadata": {},
   "outputs": [],
   "source": [
    "#Hex Color Code\n",
    "\n",
    "import re\n",
    "l = []\n",
    "p = '\\#[0-9a-fA-F]{3}(?=[;.*,\\)])|\\#[0-9a-fA-F]{6}(?=[;.*,\\)])'\n",
    "for i in range(int(input())):\n",
    "    m = re.findall(p, input())\n",
    "    l += list(m)\n",
    "for i in l:\n",
    "    print(i)"
   ]
  },
  {
   "cell_type": "code",
   "execution_count": null,
   "metadata": {},
   "outputs": [],
   "source": [
    "#HTML Parser - Part 1\n",
    "\n",
    "from html.parser import HTMLParser\n",
    "\n",
    "class MyHTMLParser(HTMLParser):\n",
    "    def handle_starttag(self, tag, attrs):\n",
    "        print('Start :', tag)\n",
    "        for i in attrs:\n",
    "            print('->',i[0],'>',i[1])\n",
    "    def handle_endtag(self, tag):\n",
    "        print('End   :', tag)\n",
    "    def handle_startendtag(self, tag, attrs):\n",
    "        print('Empty :', tag)\n",
    "        for i in attrs:\n",
    "            print('->',i[0],'>',i[1])\n",
    "\n",
    "p = MyHTMLParser()\n",
    "for i in range(int(input())):\n",
    "    p.feed(input())"
   ]
  },
  {
   "cell_type": "code",
   "execution_count": null,
   "metadata": {},
   "outputs": [],
   "source": [
    "#HTML Parser - Part 2\n",
    "\n",
    "from html.parser import HTMLParser\n",
    "class MyHTMLParser(HTMLParser):\n",
    "    def handle_comment(self, data):\n",
    "        if len(data.split('\\n')) == 1:\n",
    "            print('>>> Single-line Comment')\n",
    "        else:\n",
    "            print('>>> Multi-line Comment')\n",
    "        if data.strip() != '':\n",
    "            print(data.rstrip())\n",
    "    def handle_data(self, data):\n",
    "        if data.strip() != '':\n",
    "            print('>>> Data')\n",
    "            print(data.rstrip())\n",
    "  \n",
    "html = \"\"       \n",
    "for i in range(int(input())):\n",
    "    html += input().rstrip()\n",
    "    html += '\\n'\n",
    "    \n",
    "parser = MyHTMLParser()\n",
    "parser.feed(html)\n",
    "parser.close()"
   ]
  },
  {
   "cell_type": "code",
   "execution_count": null,
   "metadata": {},
   "outputs": [],
   "source": [
    "#Detect HTML Tags, Attributes and Attribute Values\n",
    "\n",
    "from html.parser import HTMLParser\n",
    "\n",
    "class MyHTMLParser(HTMLParser):\n",
    "    def handle_starttag(self, tag, attrs):\n",
    "        print(tag)\n",
    "        for i in attrs:\n",
    "            print('->' , i[0] , '>' , i[1])\n",
    "\n",
    "p = MyHTMLParser()\n",
    "for i in range(int(input())):\n",
    "    p.feed(input())"
   ]
  },
  {
   "cell_type": "code",
   "execution_count": null,
   "metadata": {},
   "outputs": [],
   "source": [
    "#Validating UID \n",
    "\n",
    "import re\n",
    "p = r'^(?!.*(.).*\\1)(?=(?:.*[A-Z]){2,})(?=(?:.*[0-9]){3,})[a-zA-Z0-9]{10}$'\n",
    "for i in range(int(input())):\n",
    "    m = re.search(p, input())\n",
    "    if m:\n",
    "        print(\"Valid\")\n",
    "    else:\n",
    "        print(\"Invalid\")"
   ]
  },
  {
   "cell_type": "code",
   "execution_count": null,
   "metadata": {},
   "outputs": [],
   "source": [
    "#Validating Credit Card Numbers\n",
    "\n",
    "import re\n",
    "p = r'^([456]{1}\\d{3})-?(\\d){4}-?(\\d){4}-?(\\d){4}$'\n",
    "p2 = r'((\\d)(?!\\2{3})){16}'\n",
    "for i in range(int(input())):\n",
    "    line = input()\n",
    "    if re.match(p, line) and re.match(p2, line.replace('-','')):\n",
    "        print(\"Valid\")\n",
    "    else:\n",
    "        print(\"Invalid\")"
   ]
  },
  {
   "cell_type": "code",
   "execution_count": null,
   "metadata": {},
   "outputs": [],
   "source": [
    "#Validating Postal Codes\n",
    "\n",
    "regex_integer_in_range = r\"^(?:(?!0)\\d{6}|999999)$\"\t# Do not delete 'r'.\n",
    "regex_alternating_repetitive_digit_pair = r\"(\\d)(?=.\\1)\"\t# Do not delete 'r'."
   ]
  },
  {
   "cell_type": "code",
   "execution_count": null,
   "metadata": {},
   "outputs": [],
   "source": [
    "#Matrix Script\n",
    "\n",
    "#!/bin/python3\n",
    "import math\n",
    "import os\n",
    "import random\n",
    "import re\n",
    "import sys\n",
    "\n",
    "first_multiple_input = input().rstrip().split()\n",
    "n = int(first_multiple_input[0])\n",
    "m = int(first_multiple_input[1])\n",
    "matrix = []\n",
    "\n",
    "for _ in range(n):\n",
    "    matrix_item = input()\n",
    "    matrix.append(matrix_item)\n",
    "\n",
    "s = ''\n",
    "for i in range(m):\n",
    "    for j in range(n):\n",
    "        s += matrix[j][i]\n",
    "s = re.sub(r'(?<=\\w)([\\W\\s]+)(?=\\w)', ' ', s)\n",
    "print(s)"
   ]
  },
  {
   "cell_type": "markdown",
   "metadata": {},
   "source": [
    "# XML"
   ]
  },
  {
   "cell_type": "code",
   "execution_count": null,
   "metadata": {},
   "outputs": [],
   "source": [
    "#XML 1 - Find the Score\n",
    "\n",
    "def get_attr_number(root):\n",
    "    num = 0\n",
    "    for i in root.iter():\n",
    "        num += len(i.attrib)\n",
    "    return num"
   ]
  },
  {
   "cell_type": "code",
   "execution_count": null,
   "metadata": {},
   "outputs": [],
   "source": [
    "#XML2 - Find the Maximum Depth\n",
    "\n",
    "#Searched for help in solutions. I had an alternative solution without using global variable\n",
    "maxdepth = 0\n",
    "def depth(node, level):\n",
    "    global maxdepth \n",
    "    level += 1\n",
    "    if level >= maxdepth:\n",
    "        maxdepth = level\n",
    "    for child in node:\n",
    "        depth(child, level)"
   ]
  },
  {
   "cell_type": "markdown",
   "metadata": {},
   "source": [
    "# Closures and Decorators"
   ]
  },
  {
   "cell_type": "code",
   "execution_count": null,
   "metadata": {},
   "outputs": [],
   "source": [
    "#Standardize Mobile Number Using Decorators\n",
    "\n",
    "def wrapper(f):\n",
    "    def fun(l):\n",
    "        nl = []\n",
    "        for i in l:\n",
    "            nl.append(i[len(i)-10:len(i)])\n",
    "        nl.sort()\n",
    "        for i in nl:\n",
    "            i = '+91 ' + i[0:5] + ' ' + i[5:10]\n",
    "            print(i)\n",
    "    return fun"
   ]
  },
  {
   "cell_type": "code",
   "execution_count": null,
   "metadata": {},
   "outputs": [],
   "source": [
    "#Decorators 2 - Name Directory\n",
    "\n",
    "def foo(l):\n",
    "    return int(l[2])\n",
    "\n",
    "def person_lister(f):\n",
    "    def inner(people):\n",
    "        return map(f , sorted(people, key= foo ))\n",
    "    return inner"
   ]
  },
  {
   "cell_type": "markdown",
   "metadata": {},
   "source": [
    "# Numpy"
   ]
  },
  {
   "cell_type": "code",
   "execution_count": null,
   "metadata": {},
   "outputs": [],
   "source": [
    "#Arrays\n",
    "\n",
    "import numpy\n",
    "def arrays(arr):\n",
    "    arr.reverse()\n",
    "    map(int,arr)\n",
    "    return numpy.array(arr,float)"
   ]
  },
  {
   "cell_type": "code",
   "execution_count": null,
   "metadata": {},
   "outputs": [],
   "source": [
    "#Shape and Reshape\n",
    "\n",
    "import numpy\n",
    "arr = numpy.array(list(map(int, input().split())))\n",
    "print(numpy.reshape(arr, (3,3)))\n"
   ]
  },
  {
   "cell_type": "code",
   "execution_count": null,
   "metadata": {},
   "outputs": [],
   "source": [
    "#Transpose and Flatten\n",
    "\n",
    "import numpy\n",
    "l = []\n",
    "n, m = map(int, input().split())\n",
    "for i in range(n):\n",
    "    l.append(list(map(int, input().split())))\n",
    "arr = numpy.array(l)\n",
    "print(numpy.transpose(arr))\n",
    "print(arr.flatten())"
   ]
  },
  {
   "cell_type": "code",
   "execution_count": null,
   "metadata": {},
   "outputs": [],
   "source": [
    "#Concatenate\n",
    "\n",
    "import numpy\n",
    "n,m,p = list(map(int, input().split()))\n",
    "l1 = []\n",
    "l2 = []\n",
    "for i in range(n):\n",
    "    l1.append(list(map(int, input().split())))\n",
    "for j in range(m):\n",
    "    l2.append(list(map(int, input().split())))\n",
    "a1, a2 = numpy.array(l1), numpy.array(l2)\n",
    "print(numpy.concatenate((a1,a2), axis=0))"
   ]
  },
  {
   "cell_type": "code",
   "execution_count": null,
   "metadata": {},
   "outputs": [],
   "source": [
    "#Zeros and Ones\n",
    "\n",
    "import numpy\n",
    "t = tuple(map(int, input().split()))\n",
    "print(numpy.zeros(t, dtype=numpy.int))\n",
    "print(numpy.ones(t, dtype=numpy.int))"
   ]
  },
  {
   "cell_type": "code",
   "execution_count": null,
   "metadata": {},
   "outputs": [],
   "source": [
    "#Eye and Identity\n",
    "\n",
    "import numpy\n",
    "#Had to check solution because of bug in input\n",
    "n, m = list(map(int, input().split()))\n",
    "print(str(numpy.eye(n,m,0)).replace('1',' 1').replace('0',' 0'))"
   ]
  },
  {
   "cell_type": "code",
   "execution_count": null,
   "metadata": {},
   "outputs": [],
   "source": [
    "#Array Mathematics\n",
    "\n",
    "import numpy\n",
    "n,m = list(map(int, input().split()))\n",
    "l1, l2 = [], []\n",
    "for i in range(n):\n",
    "    l1.append(list(map(int, input().split())))\n",
    "for j in range(n):\n",
    "    l2.append(list(map(int, input().split())))\n",
    "a, b = numpy.array(l1), numpy.array(l2)\n",
    "print(a+b)\n",
    "print(a-b)\n",
    "print(a*b)\n",
    "print(a//b)\n",
    "print(a%b)\n",
    "print(a**b)"
   ]
  },
  {
   "cell_type": "code",
   "execution_count": null,
   "metadata": {},
   "outputs": [],
   "source": [
    "#Floor, Ceil and Rint\n",
    "\n",
    "import numpy\n",
    "numpy.set_printoptions(sign=' ')\n",
    "l = list(map(float, input().split()))\n",
    "a = numpy.array(l)\n",
    "print(numpy.floor(a))\n",
    "print(numpy.ceil(a))\n",
    "print(numpy.rint(a))"
   ]
  },
  {
   "cell_type": "code",
   "execution_count": null,
   "metadata": {},
   "outputs": [],
   "source": [
    "#Sum and Prod\n",
    "\n",
    "import numpy\n",
    "n,m=list(map(int, input().split()))\n",
    "l = []\n",
    "for i in range(n):\n",
    "    l.append(list(map(int, input().split())))\n",
    "a = numpy.array(l)\n",
    "s = numpy.sum(a, axis = 0)\n",
    "out = 1\n",
    "for i in s:\n",
    "    out *= i\n",
    "print(out)"
   ]
  },
  {
   "cell_type": "code",
   "execution_count": null,
   "metadata": {},
   "outputs": [],
   "source": [
    "#Min and Max\n",
    "\n",
    "import numpy\n",
    "n,m=list(map(int, input().split()))\n",
    "l = []\n",
    "for i in range(n):\n",
    "    l.append(list(map(int, input().split())))\n",
    "a = numpy.array(l)\n",
    "print(max(numpy.min(a,axis=1)))"
   ]
  },
  {
   "cell_type": "code",
   "execution_count": null,
   "metadata": {},
   "outputs": [],
   "source": [
    "#Mean, Var, and Std\n",
    "\n",
    "import numpy\n",
    "numpy.set_printoptions(legacy='1.13')\n",
    "n,m=list(map(int, input().split()))\n",
    "l = []\n",
    "for i in range(n):\n",
    "    l.append(list(map(int, input().split())))\n",
    "a = numpy.array(l)\n",
    "print(numpy.mean(a, axis = 1))      \n",
    "print(numpy.var(a, axis = 0))   \n",
    "print(numpy.std(a))       "
   ]
  },
  {
   "cell_type": "code",
   "execution_count": null,
   "metadata": {},
   "outputs": [],
   "source": [
    "#Dot and Cross\n",
    "\n",
    "import numpy\n",
    "n = int(input())\n",
    "l1 = []\n",
    "l2 = []\n",
    "for i in range(n):\n",
    "    l1.append(list(map(int, input().split())))\n",
    "for j in range(n):\n",
    "    l2.append(list(map(int, input().split())))\n",
    "a1, a2 = numpy.array(l1), numpy.array(l2)\n",
    "print(numpy.dot(a1,a2))"
   ]
  },
  {
   "cell_type": "code",
   "execution_count": null,
   "metadata": {},
   "outputs": [],
   "source": [
    "#Inner and Outer\n",
    "\n",
    "import numpy\n",
    "l1 = []\n",
    "l2 = []\n",
    "l1.append(list(map(int, input().split())))\n",
    "l2.append(list(map(int, input().split())))\n",
    "A, B = numpy.array(l1), numpy.array(l2)\n",
    "print(numpy.inner(A, B)[0][0])\n",
    "print(numpy.outer(A, B))\n"
   ]
  },
  {
   "cell_type": "code",
   "execution_count": null,
   "metadata": {},
   "outputs": [],
   "source": [
    "#Polynomials\n",
    "\n",
    "import numpy\n",
    "coef = list(map(float, input().split()))\n",
    "print(numpy.polyval(coef, float(input())))"
   ]
  },
  {
   "cell_type": "code",
   "execution_count": null,
   "metadata": {},
   "outputs": [],
   "source": [
    "#Linear Algebra\n",
    "\n",
    "import numpy\n",
    "numpy.set_printoptions(legacy='1.13')\n",
    "n = int(input())\n",
    "l = []\n",
    "for i in range(n):\n",
    "    l.append(list(map(float, input().split())))\n",
    "a = numpy.array(l)\n",
    "print(numpy.linalg.det(a))"
   ]
  },
  {
   "cell_type": "markdown",
   "metadata": {},
   "source": [
    "# Problem 2"
   ]
  },
  {
   "cell_type": "code",
   "execution_count": null,
   "metadata": {},
   "outputs": [],
   "source": [
    "#Birthday Cake Candles\n",
    "\n",
    "#!/bin/python3\n",
    "import math\n",
    "import os\n",
    "import random\n",
    "import re\n",
    "import sys\n",
    "\n",
    "\n",
    "def birthdayCakeCandles(candles):\n",
    "    return candles.count(max(candles))\n",
    "\n",
    "if __name__ == '__main__':\n",
    "    fptr = open(os.environ['OUTPUT_PATH'], 'w')\n",
    "    candles_count = int(input().strip())\n",
    "    candles = list(map(int, input().rstrip().split()))\n",
    "    result = birthdayCakeCandles(candles)\n",
    "    fptr.write(str(result) + '\\n')\n",
    "    fptr.close()"
   ]
  },
  {
   "cell_type": "code",
   "execution_count": null,
   "metadata": {},
   "outputs": [],
   "source": [
    "#Number Line Jumps\n",
    "\n",
    "#!/bin/python3\n",
    "import math\n",
    "import os\n",
    "import random\n",
    "import re\n",
    "import sys\n",
    "\n",
    "# Complete the kangaroo function below.\n",
    "def kangaroo(x1, v1, x2, v2):\n",
    "    if v1 == v2:\n",
    "        return 'NO'\n",
    "    kstar = (x2-x1)/(v1-v2)\n",
    "    if kstar.is_integer() == True and kstar > 0:\n",
    "        return 'YES'\n",
    "    else:\n",
    "        return 'NO'\n",
    "\n",
    "if __name__ == '__main__':\n",
    "    fptr = open(os.environ['OUTPUT_PATH'], 'w')\n",
    "    x1V1X2V2 = input().split()\n",
    "    x1 = int(x1V1X2V2[0])\n",
    "    v1 = int(x1V1X2V2[1])\n",
    "    x2 = int(x1V1X2V2[2])\n",
    "    v2 = int(x1V1X2V2[3])\n",
    "    result = kangaroo(x1, v1, x2, v2)\n",
    "    fptr.write(result + '\\n')\n",
    "    fptr.close()"
   ]
  },
  {
   "cell_type": "code",
   "execution_count": null,
   "metadata": {},
   "outputs": [],
   "source": [
    "#Viral Advertising\n",
    "\n",
    "#!/bin/python3\n",
    "\n",
    "import math\n",
    "import os\n",
    "import random\n",
    "import re\n",
    "import sys\n",
    "\n",
    "# Complete the viralAdvertising function below.\n",
    "def viralAdvertising(n):\n",
    "    cumul = 0\n",
    "    sh = 5\n",
    "    for i in range(n):\n",
    "        liked = math.floor(sh/2)\n",
    "        cumul += liked\n",
    "        sh = 3*liked\n",
    "    return cumul\n",
    "\n",
    "if __name__ == '__main__':\n",
    "    fptr = open(os.environ['OUTPUT_PATH'], 'w')\n",
    "    n = int(input())\n",
    "    result = viralAdvertising(n)\n",
    "    fptr.write(str(result) + '\\n')\n",
    "    fptr.close()"
   ]
  },
  {
   "cell_type": "code",
   "execution_count": null,
   "metadata": {},
   "outputs": [],
   "source": [
    "#Recursive Digit Sum\n",
    "\n",
    "#!/bin/python3\n",
    "\n",
    "import math\n",
    "import os\n",
    "import random\n",
    "import re\n",
    "import sys\n",
    "\n",
    "def rec(n):\n",
    "    while len(str(n)) != 1:\n",
    "        n = sum(int(digit) for digit in str(n))\n",
    "    return n\n",
    "\n",
    "def superDigit(n, k):\n",
    "    num = rec(n)*k\n",
    "    return rec(num)\n",
    "\n",
    "if __name__ == '__main__':\n",
    "    fptr = open(os.environ['OUTPUT_PATH'], 'w')\n",
    "    nk = input().split()\n",
    "    n = nk[0]\n",
    "    k = int(nk[1])\n",
    "    result = superDigit(n, k)\n",
    "    fptr.write(str(result) + '\\n')\n",
    "    fptr.close()"
   ]
  },
  {
   "cell_type": "code",
   "execution_count": null,
   "metadata": {},
   "outputs": [],
   "source": [
    "#Insertion Sort - Part 1\n",
    "\n",
    "#!/bin/python3\n",
    "import math\n",
    "import os\n",
    "import random\n",
    "import re\n",
    "import sys\n",
    "\n",
    "# Complete the insertionSort1 function below.\n",
    "def insertionSort1(n, arr):\n",
    "    num = arr[len(arr)-1] \n",
    "    cond = False\n",
    "    for i in range(n-2, -1, -1):\n",
    "        if arr[i] > num:\n",
    "            arr[i+1] = arr[i]\n",
    "            print(' '.join(map(str, arr)))\n",
    "        else:\n",
    "            arr[i+1] = num\n",
    "            cond = True\n",
    "            print(' '.join(map(str, arr)))\n",
    "            break\n",
    "    if cond == False:\n",
    "        arr[0] = num\n",
    "        print(' '.join(map(str, arr)))\n",
    "    \n",
    "if __name__ == '__main__':\n",
    "    n = int(input())\n",
    "    arr = list(map(int, input().rstrip().split()))\n",
    "    insertionSort1(n, arr)"
   ]
  },
  {
   "cell_type": "code",
   "execution_count": null,
   "metadata": {},
   "outputs": [],
   "source": [
    "##Insertion Sort - Part 2\n",
    "\n",
    "#!/bin/python3\n",
    "import math\n",
    "import os\n",
    "import random\n",
    "import re\n",
    "import sys\n",
    "\n",
    "def insertionSort1(n, arr):\n",
    "    num = arr[n]\n",
    "    i = n - 1\n",
    "    while (i >= 0 and arr[i] > num):\n",
    "        arr[i + 1] = arr[i]\n",
    "        arr[i] = num\n",
    "        i -= 1\n",
    "\n",
    "def insertionSort2(n, arr): \n",
    "    for i in range(1, n): \n",
    "        insertionSort1(i,arr)\n",
    "        print(*arr)\n",
    "\n",
    "if __name__ == '__main__':\n",
    "    n = int(input())\n",
    "    arr = list(map(int, input().rstrip().split()))\n",
    "    insertionSort2(n, arr)"
   ]
  },
  {
   "cell_type": "code",
   "execution_count": null,
   "metadata": {},
   "outputs": [],
   "source": []
  }
 ],
 "metadata": {
  "kernelspec": {
   "display_name": "Python 3",
   "language": "python",
   "name": "python3"
  },
  "language_info": {
   "codemirror_mode": {
    "name": "ipython",
    "version": 3
   },
   "file_extension": ".py",
   "mimetype": "text/x-python",
   "name": "python",
   "nbconvert_exporter": "python",
   "pygments_lexer": "ipython3",
   "version": "3.8.3"
  }
 },
 "nbformat": 4,
 "nbformat_minor": 4
}
